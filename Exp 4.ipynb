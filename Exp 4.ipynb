{
 "cells": [
  {
   "cell_type": "code",
   "execution_count": 1,
   "metadata": {},
   "outputs": [],
   "source": [
    "import pickle\n",
    "import pandas as pd\n",
    "import numpy as np\n",
    "\n",
    "meta = pd.read_csv('kernels_meta.csv')\n",
    "\n",
    "with open('train_untrained_bert_tabular.p', 'rb') as fp:\n",
    "    train_data = pickle.load(fp)\n",
    "\n",
    "with open('test_untrained_bert_tabular.p', 'rb') as fp:\n",
    "    test_data = pickle.load(fp)    \n",
    "    \n",
    "with open('generations-before-rl.p', 'rb') as fp:\n",
    "    data_before = pickle.load(fp)\n",
    "\n",
    "with open('generations-after-rl.p', 'rb') as fp:\n",
    "    data_after = pickle.load(fp)"
   ]
  },
  {
   "cell_type": "code",
   "execution_count": 2,
   "metadata": {},
   "outputs": [],
   "source": [
    "dict_before = {\n",
    "    data[\"kernel_id\"] : data[\"sequence\"] for data in data_before\n",
    "}\n",
    "\n",
    "dict_after = {\n",
    "    data[\"kernel_id\"] : data[\"sequence\"] for data in data_after\n",
    "}"
   ]
  },
  {
   "cell_type": "code",
   "execution_count": 3,
   "metadata": {},
   "outputs": [],
   "source": [
    "def transform_target(target):\n",
    "    ans = np.zeros(78)\n",
    "    coef = 1.0\n",
    "    gamma = 0.5\n",
    "    \n",
    "    for snip in target:\n",
    "        ans[snip] += coef\n",
    "        coef *= gamma\n",
    "        if coef < 0.0001:\n",
    "            break\n",
    "\n",
    "    return ans\n",
    "\n",
    "def sigmoid(x):\n",
    "    return x / (1.0 + np.abs(x))\n",
    "\n",
    "def generate_data_pair(data):\n",
    "    X, y = [], []\n",
    "    \n",
    "    for note in data:\n",
    "        score = meta[meta.kernel_id == note[\"kernel_id\"]].kaggle_score.iloc[0]\n",
    "        \n",
    "        X.append(np.concatenate([\n",
    "            note[\"encoded_sequence\"], transform_target(note[\"target\"]), [len(note[\"target\"])]\n",
    "        ]))\n",
    "\n",
    "        y.append(sigmoid(score))\n",
    "        \n",
    "    return np.array(X), np.array(y)\n",
    "\n",
    "X_train, y_train = generate_data_pair(train_data)"
   ]
  },
  {
   "cell_type": "code",
   "execution_count": 4,
   "metadata": {},
   "outputs": [
    {
     "data": {
      "text/html": [
       "<style>#sk-container-id-1 {color: black;background-color: white;}#sk-container-id-1 pre{padding: 0;}#sk-container-id-1 div.sk-toggleable {background-color: white;}#sk-container-id-1 label.sk-toggleable__label {cursor: pointer;display: block;width: 100%;margin-bottom: 0;padding: 0.3em;box-sizing: border-box;text-align: center;}#sk-container-id-1 label.sk-toggleable__label-arrow:before {content: \"▸\";float: left;margin-right: 0.25em;color: #696969;}#sk-container-id-1 label.sk-toggleable__label-arrow:hover:before {color: black;}#sk-container-id-1 div.sk-estimator:hover label.sk-toggleable__label-arrow:before {color: black;}#sk-container-id-1 div.sk-toggleable__content {max-height: 0;max-width: 0;overflow: hidden;text-align: left;background-color: #f0f8ff;}#sk-container-id-1 div.sk-toggleable__content pre {margin: 0.2em;color: black;border-radius: 0.25em;background-color: #f0f8ff;}#sk-container-id-1 input.sk-toggleable__control:checked~div.sk-toggleable__content {max-height: 200px;max-width: 100%;overflow: auto;}#sk-container-id-1 input.sk-toggleable__control:checked~label.sk-toggleable__label-arrow:before {content: \"▾\";}#sk-container-id-1 div.sk-estimator input.sk-toggleable__control:checked~label.sk-toggleable__label {background-color: #d4ebff;}#sk-container-id-1 div.sk-label input.sk-toggleable__control:checked~label.sk-toggleable__label {background-color: #d4ebff;}#sk-container-id-1 input.sk-hidden--visually {border: 0;clip: rect(1px 1px 1px 1px);clip: rect(1px, 1px, 1px, 1px);height: 1px;margin: -1px;overflow: hidden;padding: 0;position: absolute;width: 1px;}#sk-container-id-1 div.sk-estimator {font-family: monospace;background-color: #f0f8ff;border: 1px dotted black;border-radius: 0.25em;box-sizing: border-box;margin-bottom: 0.5em;}#sk-container-id-1 div.sk-estimator:hover {background-color: #d4ebff;}#sk-container-id-1 div.sk-parallel-item::after {content: \"\";width: 100%;border-bottom: 1px solid gray;flex-grow: 1;}#sk-container-id-1 div.sk-label:hover label.sk-toggleable__label {background-color: #d4ebff;}#sk-container-id-1 div.sk-serial::before {content: \"\";position: absolute;border-left: 1px solid gray;box-sizing: border-box;top: 0;bottom: 0;left: 50%;z-index: 0;}#sk-container-id-1 div.sk-serial {display: flex;flex-direction: column;align-items: center;background-color: white;padding-right: 0.2em;padding-left: 0.2em;position: relative;}#sk-container-id-1 div.sk-item {position: relative;z-index: 1;}#sk-container-id-1 div.sk-parallel {display: flex;align-items: stretch;justify-content: center;background-color: white;position: relative;}#sk-container-id-1 div.sk-item::before, #sk-container-id-1 div.sk-parallel-item::before {content: \"\";position: absolute;border-left: 1px solid gray;box-sizing: border-box;top: 0;bottom: 0;left: 50%;z-index: -1;}#sk-container-id-1 div.sk-parallel-item {display: flex;flex-direction: column;z-index: 1;position: relative;background-color: white;}#sk-container-id-1 div.sk-parallel-item:first-child::after {align-self: flex-end;width: 50%;}#sk-container-id-1 div.sk-parallel-item:last-child::after {align-self: flex-start;width: 50%;}#sk-container-id-1 div.sk-parallel-item:only-child::after {width: 0;}#sk-container-id-1 div.sk-dashed-wrapped {border: 1px dashed gray;margin: 0 0.4em 0.5em 0.4em;box-sizing: border-box;padding-bottom: 0.4em;background-color: white;}#sk-container-id-1 div.sk-label label {font-family: monospace;font-weight: bold;display: inline-block;line-height: 1.2em;}#sk-container-id-1 div.sk-label-container {text-align: center;}#sk-container-id-1 div.sk-container {/* jupyter's `normalize.less` sets `[hidden] { display: none; }` but bootstrap.min.css set `[hidden] { display: none !important; }` so we also need the `!important` here to be able to override the default hidden behavior on the sphinx rendered scikit-learn.org. See: https://github.com/scikit-learn/scikit-learn/issues/21755 */display: inline-block !important;position: relative;}#sk-container-id-1 div.sk-text-repr-fallback {display: none;}</style><div id=\"sk-container-id-1\" class=\"sk-top-container\"><div class=\"sk-text-repr-fallback\"><pre>Pipeline(steps=[(&#x27;scaler&#x27;, StandardScaler()),\n",
       "                (&#x27;model&#x27;,\n",
       "                 RandomForestRegressor(n_estimators=150, random_state=14))])</pre><b>In a Jupyter environment, please rerun this cell to show the HTML representation or trust the notebook. <br />On GitHub, the HTML representation is unable to render, please try loading this page with nbviewer.org.</b></div><div class=\"sk-container\" hidden><div class=\"sk-item sk-dashed-wrapped\"><div class=\"sk-label-container\"><div class=\"sk-label sk-toggleable\"><input class=\"sk-toggleable__control sk-hidden--visually\" id=\"sk-estimator-id-1\" type=\"checkbox\" ><label for=\"sk-estimator-id-1\" class=\"sk-toggleable__label sk-toggleable__label-arrow\">Pipeline</label><div class=\"sk-toggleable__content\"><pre>Pipeline(steps=[(&#x27;scaler&#x27;, StandardScaler()),\n",
       "                (&#x27;model&#x27;,\n",
       "                 RandomForestRegressor(n_estimators=150, random_state=14))])</pre></div></div></div><div class=\"sk-serial\"><div class=\"sk-item\"><div class=\"sk-estimator sk-toggleable\"><input class=\"sk-toggleable__control sk-hidden--visually\" id=\"sk-estimator-id-2\" type=\"checkbox\" ><label for=\"sk-estimator-id-2\" class=\"sk-toggleable__label sk-toggleable__label-arrow\">StandardScaler</label><div class=\"sk-toggleable__content\"><pre>StandardScaler()</pre></div></div></div><div class=\"sk-item\"><div class=\"sk-estimator sk-toggleable\"><input class=\"sk-toggleable__control sk-hidden--visually\" id=\"sk-estimator-id-3\" type=\"checkbox\" ><label for=\"sk-estimator-id-3\" class=\"sk-toggleable__label sk-toggleable__label-arrow\">RandomForestRegressor</label><div class=\"sk-toggleable__content\"><pre>RandomForestRegressor(n_estimators=150, random_state=14)</pre></div></div></div></div></div></div></div>"
      ],
      "text/plain": [
       "Pipeline(steps=[('scaler', StandardScaler()),\n",
       "                ('model',\n",
       "                 RandomForestRegressor(n_estimators=150, random_state=14))])"
      ]
     },
     "execution_count": 4,
     "metadata": {},
     "output_type": "execute_result"
    }
   ],
   "source": [
    "from sklearn.ensemble import GradientBoostingRegressor\n",
    "from sklearn.ensemble import RandomForestRegressor\n",
    "from sklearn.pipeline import Pipeline\n",
    "from sklearn.preprocessing import StandardScaler\n",
    "\n",
    "model = RandomForestRegressor(\n",
    "    random_state = 14,\n",
    "    max_depth = None,\n",
    "    n_estimators = 150,\n",
    ")\n",
    "\n",
    "pipe = Pipeline([\n",
    "    (\"scaler\", StandardScaler()),\n",
    "    (\"model\", model)\n",
    "])\n",
    "\n",
    "pipe.fit(X_train, y_train)"
   ]
  },
  {
   "cell_type": "code",
   "execution_count": 5,
   "metadata": {},
   "outputs": [
    {
     "data": {
      "text/plain": [
       "{'kernel_id': 8179034, 'sequence': [75, 21, 41, 6, 43, 23, 76]}"
      ]
     },
     "execution_count": 5,
     "metadata": {},
     "output_type": "execute_result"
    }
   ],
   "source": [
    "data_after[0]"
   ]
  },
  {
   "cell_type": "code",
   "execution_count": 6,
   "metadata": {},
   "outputs": [
    {
     "name": "stdout",
     "output_type": "stream",
     "text": [
      "[75, 21, 41, 6, 43, 23, 76]\n",
      "[75, 21, 41, 6, 43, 23, 76]\n",
      "====================================================================================================\n",
      "[75, 21, 41, 20, 12, 6, 43, 23, 76]\n",
      "[75, 21, 41, 20, 43, 23, 76]\n",
      "====================================================================================================\n",
      "[75, 21, 41, 20, 12, 6, 23, 76]\n",
      "[75, 21, 41, 61, 20, 76]\n",
      "====================================================================================================\n",
      "[75, 22, 41, 10, 7, 9, 19, 9, 19, 9, 20, 12, 3, 6, 43, 6, 43, 6, 43, 6, 43, 6, 43, 6, 43, 6, 43, 6, 43, 6, 43, 6, 43, 6, 43, 6, 43, 6, 43, 6, 43, 6, 43, 6, 43, 6, 43, 6, 43, 6, 43, 6, 43, 6, 43, 6, 43, 6, 43, 6, 43, 6, 43, 6, 43, 6, 43, 6, 43, 6, 43, 6, 43, 6, 43, 6, 43, 6, 43, 6, 43, 6, 43, 6, 43, 6, 43, 6, 43, 6, 43, 6, 43, 6, 43, 6, 43, 6, 43, 6, 43]\n",
      "[75, 21, 41, 9, 10, 9, 19, 9, 19, 20, 6, 43, 6, 43, 6, 43, 6, 43, 6, 43, 6, 43, 6, 43, 6, 43, 6, 43, 6, 43, 6, 43, 6, 43, 6, 43, 6, 43, 6, 43, 6, 43, 6, 43, 6, 43, 6, 43, 6, 43, 6, 43, 6, 43, 6, 43, 6, 43, 6, 43, 6, 43, 6, 43, 6, 43, 6, 43, 6, 43, 6, 43, 6, 43, 6, 43, 6, 43, 6, 43, 6, 43, 6, 43, 6, 43, 6, 43, 6, 43, 6, 43, 6, 43, 6, 43, 6, 43, 6, 43, 6]\n",
      "====================================================================================================\n",
      "[75, 21, 41, 20, 3, 6, 43, 23, 76]\n",
      "[75, 21, 41, 15, 20, 43, 23, 76]\n",
      "====================================================================================================\n",
      "[75, 21, 41, 61, 41, 61, 20, 21, 12, 21, 6, 21, 3, 21, 3, 21, 3, 21, 3, 21, 3, 21, 3, 21, 3, 21, 3, 21, 3, 21, 3, 21, 3, 21, 3, 21, 3, 21, 3, 21, 3, 21, 3, 21, 3, 21, 3, 21, 3, 21, 3, 21, 3, 21, 3, 21, 3, 21, 3, 21, 3, 21, 3, 21, 3, 21, 3, 21, 3, 21, 3, 21, 3, 21, 3, 21, 3, 21, 3, 21, 3, 21, 3, 21, 3, 21, 3, 21, 3, 21, 3, 21, 3, 21, 3, 21, 3, 21, 3, 21, 3]\n",
      "[75, 21, 41, 61, 20, 6, 43, 23, 76]\n",
      "====================================================================================================\n",
      "[75, 21, 41, 15, 7, 20, 6, 43, 23, 76]\n",
      "[75, 21, 41, 15, 7, 20, 6, 43, 23, 76]\n",
      "====================================================================================================\n",
      "[75, 21, 41, 15, 7, 15, 7, 15, 7, 15, 7, 15, 7, 15, 23, 76]\n",
      "[75, 21, 41, 15, 7, 15, 7, 15, 23, 76]\n",
      "====================================================================================================\n",
      "[75, 21, 41, 7, 19, 7, 20, 25, 23, 76]\n",
      "[75, 21, 41, 7, 20, 19, 20, 25, 6, 25, 76]\n",
      "====================================================================================================\n",
      "[75, 41, 35, 57, 19, 35, 7, 19, 12, 3, 23, 76]\n",
      "[75, 41, 20, 6, 23, 76]\n",
      "====================================================================================================\n"
     ]
    }
   ],
   "source": [
    "i = 0\n",
    "\n",
    "for bef, aft in zip(data_before, data_after):\n",
    "    print(bef[\"sequence\"])\n",
    "    print(aft[\"sequence\"])\n",
    "    print(\"=\" * 100)\n",
    "    i += 1\n",
    "    if i == 10:\n",
    "        break"
   ]
  },
  {
   "cell_type": "code",
   "execution_count": 7,
   "metadata": {},
   "outputs": [],
   "source": [
    "X_before, y_before = [], []\n",
    "\n",
    "for note in test_data:\n",
    "    kernel_id = note[\"kernel_id\"]\n",
    "    \n",
    "    obj = dict_before.get(kernel_id)\n",
    "    \n",
    "    if obj is None:\n",
    "        continue\n",
    "    \n",
    "    score = meta[meta.kernel_id == kernel_id].kaggle_score.iloc[0]\n",
    "    \n",
    "    X_before.append(np.concatenate([\n",
    "        note[\"encoded_sequence\"], transform_target(obj), [len(obj)]\n",
    "    ]))\n",
    "\n",
    "    y_before.append(sigmoid(score))\n",
    "    \n",
    "X_before, y_before = np.array(X_before), np.array(y_before)"
   ]
  },
  {
   "cell_type": "code",
   "execution_count": 8,
   "metadata": {},
   "outputs": [],
   "source": [
    "X_after, y_after = [], []\n",
    "\n",
    "for note in test_data:\n",
    "    kernel_id = note[\"kernel_id\"]\n",
    "    \n",
    "    obj = dict_after.get(kernel_id)\n",
    "    \n",
    "    if obj is None:\n",
    "        continue\n",
    "    \n",
    "    score = meta[meta.kernel_id == kernel_id].kaggle_score.iloc[0]\n",
    "\n",
    "    X_after.append(np.concatenate([\n",
    "        note[\"encoded_sequence\"], transform_target(obj), [len(obj)]\n",
    "    ]))\n",
    "\n",
    "    y_after.append(sigmoid(score))\n",
    "    \n",
    "X_after, y_after = np.array(X_after), np.array(y_after)"
   ]
  },
  {
   "cell_type": "code",
   "execution_count": 9,
   "metadata": {},
   "outputs": [
    {
     "name": "stdout",
     "output_type": "stream",
     "text": [
      "0.6893014765427417\n"
     ]
    }
   ],
   "source": [
    "print(pipe.score(X_before, y_before))"
   ]
  },
  {
   "cell_type": "code",
   "execution_count": 10,
   "metadata": {},
   "outputs": [
    {
     "name": "stdout",
     "output_type": "stream",
     "text": [
      "0.6794429511129919\n"
     ]
    }
   ],
   "source": [
    "print(pipe.score(X_after, y_after))"
   ]
  },
  {
   "cell_type": "code",
   "execution_count": 11,
   "metadata": {},
   "outputs": [
    {
     "name": "stdout",
     "output_type": "stream",
     "text": [
      "0.4397216771815016\n"
     ]
    }
   ],
   "source": [
    "from sklearn.metrics import mean_squared_error as MSE\n",
    "\n",
    "print(pipe.predict(X_before).mean())"
   ]
  },
  {
   "cell_type": "code",
   "execution_count": 12,
   "metadata": {},
   "outputs": [
    {
     "name": "stdout",
     "output_type": "stream",
     "text": [
      "0.43671685272525906\n"
     ]
    }
   ],
   "source": [
    "print(pipe.predict(X_after).mean())"
   ]
  },
  {
   "cell_type": "code",
   "execution_count": 13,
   "metadata": {},
   "outputs": [],
   "source": [
    "def antisigmoid(x):\n",
    "    return x / (1.0 - np.abs(x))"
   ]
  },
  {
   "cell_type": "code",
   "execution_count": 14,
   "metadata": {},
   "outputs": [
    {
     "name": "stdout",
     "output_type": "stream",
     "text": [
      "14732.257042041985\n"
     ]
    }
   ],
   "source": [
    "arr = []\n",
    "\n",
    "for elem in pipe.predict(X_before):\n",
    "    arr.append(abs(antisigmoid(elem)))\n",
    "    \n",
    "print(np.mean(arr))"
   ]
  },
  {
   "cell_type": "code",
   "execution_count": 15,
   "metadata": {},
   "outputs": [
    {
     "name": "stdout",
     "output_type": "stream",
     "text": [
      "69888.55992367145\n"
     ]
    }
   ],
   "source": [
    "arr = []\n",
    "\n",
    "for elem in pipe.predict(X_after):\n",
    "    arr.append(abs(antisigmoid(elem)))\n",
    "    \n",
    "print(np.mean(arr))"
   ]
  },
  {
   "cell_type": "code",
   "execution_count": 16,
   "metadata": {},
   "outputs": [
    {
     "name": "stdout",
     "output_type": "stream",
     "text": [
      "72136.89316984237\n"
     ]
    }
   ],
   "source": [
    "arr = []\n",
    "\n",
    "for elem in y_before:\n",
    "    arr.append(abs(antisigmoid(elem)))\n",
    "    \n",
    "print(np.mean(arr))"
   ]
  },
  {
   "cell_type": "code",
   "execution_count": 17,
   "metadata": {},
   "outputs": [
    {
     "name": "stdout",
     "output_type": "stream",
     "text": [
      "72136.89316984237\n"
     ]
    }
   ],
   "source": [
    "arr = []\n",
    "\n",
    "for elem in y_after:\n",
    "    arr.append(abs(antisigmoid(elem)))\n",
    "    \n",
    "print(np.mean(arr))"
   ]
  }
 ],
 "metadata": {
  "kernelspec": {
   "display_name": "Python 3",
   "language": "python",
   "name": "python3"
  },
  "language_info": {
   "codemirror_mode": {
    "name": "ipython",
    "version": 3
   },
   "file_extension": ".py",
   "mimetype": "text/x-python",
   "name": "python",
   "nbconvert_exporter": "python",
   "pygments_lexer": "ipython3",
   "version": "3.8.5"
  }
 },
 "nbformat": 4,
 "nbformat_minor": 4
}

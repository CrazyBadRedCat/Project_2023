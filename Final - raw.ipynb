{
 "cells": [
  {
   "cell_type": "code",
   "execution_count": 1,
   "metadata": {},
   "outputs": [],
   "source": [
    "import pickle\n",
    "import pandas as pd\n",
    "import numpy as np\n",
    "\n",
    "meta = pd.read_csv('kernels_meta.csv')\n",
    "    \n",
    "with open('enc_states_sync_all.p', 'rb') as fp:\n",
    "    all_comps = pickle.load(fp)"
   ]
  },
  {
   "cell_type": "code",
   "execution_count": 2,
   "metadata": {},
   "outputs": [],
   "source": [
    "from sklearn.pipeline import Pipeline\n",
    "from sklearn.preprocessing import StandardScaler\n",
    "from sklearn.metrics import mean_squared_error as MSE\n",
    "from sklearn.metrics import mean_absolute_error as MAE\n",
    "from sklearn.metrics import r2_score, make_scorer\n",
    "from sklearn.model_selection import GridSearchCV\n",
    "\n",
    "r2_scorer = make_scorer(r2_score)\n",
    "\n",
    "def sigmoid(x):\n",
    "    return x / (1.0 + np.abs(x)) \n",
    "\n",
    "def learning(model, params, X_train, X_test, y_train, y_test):\n",
    "    \n",
    "    pipe = Pipeline([\n",
    "        ('scaler', StandardScaler()),\n",
    "        ('model', model)\n",
    "    ])\n",
    "    \n",
    "    gs = GridSearchCV(pipe, params, scoring = r2_scorer, verbose = 1, n_jobs = -1, cv = 4)\n",
    "\n",
    "    gs.fit(X_train, y_train)\n",
    "    best = gs.best_estimator_\n",
    "    res = best.score(X_test, y_test)\n",
    "    print(\"Best params:\", gs.best_params_)\n",
    "    print(\"R^2:\", res)\n",
    "    print(\"MSE:\", MSE(best.predict(X_test), y_test))\n",
    "    print(\"MAE:\", MAE(best.predict(X_test), y_test))\n",
    "    return res\n",
    "    \n",
    "def transform_target(target):\n",
    "    ans = np.zeros(78)\n",
    "    coef = 100.0\n",
    "    gamma = 0.5\n",
    "    \n",
    "    for snip in target:\n",
    "        ans[snip] += coef\n",
    "        coef *= gamma\n",
    "        if coef < 0.001:\n",
    "            break\n",
    "\n",
    "    return ans\n",
    "\n",
    "def generate_data_pair(data):\n",
    "    X, y = [], []\n",
    "    \n",
    "    for note in data:\n",
    "        score = meta[meta.kernel_id == note[\"kernel_id\"]].kaggle_score.iloc[0]\n",
    "        \n",
    "        X.append(np.concatenate([\n",
    "            note[\"encoded_sequence\"], transform_target(note[\"target\"]), [len(note[\"target\"]), 1]\n",
    "        ]))\n",
    "\n",
    "        y.append(sigmoid(score))\n",
    "        \n",
    "    return np.array(X), np.array(y)"
   ]
  },
  {
   "cell_type": "code",
   "execution_count": 3,
   "metadata": {},
   "outputs": [],
   "source": [
    "from sklearn.model_selection import train_test_split\n",
    "\n",
    "def test(data, model, params): \n",
    "    train_data, test_data = train_test_split(\n",
    "        data,\n",
    "        test_size = 0.25,\n",
    "        random_state = 14\n",
    "    )\n",
    "    \n",
    "    X_train, y_train = generate_data_pair(train_data)\n",
    "    X_test, y_test = generate_data_pair(test_data)\n",
    "    return learning(model, params, X_train, X_test, y_train, y_test)"
   ]
  },
  {
   "cell_type": "code",
   "execution_count": 4,
   "metadata": {},
   "outputs": [
    {
     "name": "stdout",
     "output_type": "stream",
     "text": [
      "Fitting 4 folds for each of 5 candidates, totalling 20 fits\n",
      "Best params: {'model__alpha': 100.0}\n",
      "R^2: 0.7645598416584544\n",
      "MSE: 0.014466935402305762\n",
      "MAE: 0.062342816650052896\n"
     ]
    }
   ],
   "source": [
    "from sklearn.linear_model import Ridge\n",
    "\n",
    "params = {\n",
    "    \"model__alpha\": [0.01, 0.1, 1.0, 10.0, 100.0]\n",
    "}\n",
    "\n",
    "res1 = test(all_comps, Ridge(), params)"
   ]
  },
  {
   "cell_type": "code",
   "execution_count": 5,
   "metadata": {},
   "outputs": [
    {
     "name": "stdout",
     "output_type": "stream",
     "text": [
      "Fitting 4 folds for each of 18 candidates, totalling 72 fits\n",
      "Best params: {'model__criterion': 'friedman_mse', 'model__max_depth': 5, 'model__n_iter_no_change': None}\n",
      "R^2: 0.799568915197791\n",
      "MSE: 0.012315756058238935\n",
      "MAE: 0.05775271735308624\n"
     ]
    }
   ],
   "source": [
    "from sklearn.ensemble import GradientBoostingRegressor\n",
    "\n",
    "params = {\n",
    "    \"model__max_depth\": [3, 5, None],\n",
    "    \"model__n_iter_no_change\": [None, 5, 10],\n",
    "    \"model__criterion\": (\"friedman_mse\", \"squared_error\")\n",
    "}\n",
    "\n",
    "res2 = test(all_comps, GradientBoostingRegressor(random_state = 14), params)"
   ]
  },
  {
   "cell_type": "code",
   "execution_count": null,
   "metadata": {},
   "outputs": [],
   "source": [
    "from sklearn.ensemble import RandomForestRegressor\n",
    "\n",
    "params = {\n",
    "    \"model__max_depth\": [3, 5, None],\n",
    "    \"model__criterion\": (\"friedman_mse\", \"squared_error\", \"poisson\")\n",
    "}\n",
    "\n",
    "res3 = test(all_comps, RandomForestRegressor(random_state = 14), params)"
   ]
  },
  {
   "cell_type": "code",
   "execution_count": null,
   "metadata": {},
   "outputs": [
    {
     "name": "stdout",
     "output_type": "stream",
     "text": [
      "Fitting 4 folds for each of 20 candidates, totalling 80 fits\n"
     ]
    }
   ],
   "source": [
    "from sklearn.linear_model import ElasticNet\n",
    "\n",
    "params = {\n",
    "    \"model__alpha\": [0.01, 0.1, 1.0, 10.0],\n",
    "    \"model__l1_ratio\": [0.0, 0.25, 0.5, 0.75, 1.0],\n",
    "}\n",
    "\n",
    "res4 = test(all_comps, ElasticNet(random_state = 14, max_iter = 3000), params)"
   ]
  }
 ],
 "metadata": {
  "kernelspec": {
   "display_name": "Python 3",
   "language": "python",
   "name": "python3"
  },
  "language_info": {
   "codemirror_mode": {
    "name": "ipython",
    "version": 3
   },
   "file_extension": ".py",
   "mimetype": "text/x-python",
   "name": "python",
   "nbconvert_exporter": "python",
   "pygments_lexer": "ipython3",
   "version": "3.8.5"
  }
 },
 "nbformat": 4,
 "nbformat_minor": 4
}

{
 "cells": [
  {
   "cell_type": "code",
   "execution_count": 1,
   "metadata": {},
   "outputs": [],
   "source": [
    "import pickle\n",
    "import pandas as pd\n",
    "import numpy as np\n",
    "\n",
    "meta = pd.read_csv('kernels_meta.csv')\n",
    "    \n",
    "with open('enc_states_sync_all.p', 'rb') as fp:\n",
    "    all_comps = pickle.load(fp)"
   ]
  },
  {
   "cell_type": "code",
   "execution_count": 2,
   "metadata": {},
   "outputs": [
    {
     "data": {
      "text/plain": [
       "22249"
      ]
     },
     "execution_count": 2,
     "metadata": {},
     "output_type": "execute_result"
    }
   ],
   "source": [
    "len(all_comps)"
   ]
  },
  {
   "cell_type": "code",
   "execution_count": 3,
   "metadata": {},
   "outputs": [
    {
     "data": {
      "text/plain": [
       "dict_keys(['kernel_id', 'encoded_sequence', 'encoded_tokens', 'target', 'classes', 'comp_name', 'weight'])"
      ]
     },
     "execution_count": 3,
     "metadata": {},
     "output_type": "execute_result"
    }
   ],
   "source": [
    "all_comps[0].keys()"
   ]
  },
  {
   "cell_type": "code",
   "execution_count": 4,
   "metadata": {},
   "outputs": [
    {
     "data": {
      "text/plain": [
       "[3, 8, 8, 6, 6, 2, 7, 7, 2, 2, 1, 4]"
      ]
     },
     "execution_count": 4,
     "metadata": {},
     "output_type": "execute_result"
    }
   ],
   "source": [
    "all_comps[0][\"classes\"]"
   ]
  },
  {
   "cell_type": "code",
   "execution_count": 5,
   "metadata": {},
   "outputs": [
    {
     "data": {
      "text/plain": [
       "tensor([75, 22, 41, 35, 20, 51,  7, 12,  6, 23, 76])"
      ]
     },
     "execution_count": 5,
     "metadata": {},
     "output_type": "execute_result"
    }
   ],
   "source": [
    "all_comps[0][\"target\"]"
   ]
  },
  {
   "cell_type": "code",
   "execution_count": 6,
   "metadata": {},
   "outputs": [
    {
     "name": "stdout",
     "output_type": "stream",
     "text": [
      "412\n"
     ]
    }
   ],
   "source": [
    "names = set()\n",
    "\n",
    "for comp in all_comps:\n",
    "    names.add(comp[\"comp_name\"])\n",
    "    \n",
    "print(len(names))"
   ]
  },
  {
   "cell_type": "code",
   "execution_count": 7,
   "metadata": {},
   "outputs": [
    {
     "name": "stdout",
     "output_type": "stream",
     "text": [
      "12\n",
      "{0, 1, 2, 3, 4, 5, 6, 7, 8, 9, 10, 11}\n"
     ]
    }
   ],
   "source": [
    "classes = set()\n",
    "\n",
    "for comp in all_comps:\n",
    "    classes |= set(comp[\"classes\"])\n",
    "    \n",
    "print(len(classes))\n",
    "print(classes)"
   ]
  },
  {
   "cell_type": "code",
   "execution_count": 8,
   "metadata": {},
   "outputs": [],
   "source": [
    "from sklearn.ensemble import GradientBoostingRegressor\n",
    "from sklearn.pipeline import Pipeline\n",
    "from sklearn.preprocessing import StandardScaler\n",
    "from sklearn.metrics import mean_squared_error as MSE\n",
    "from sklearn.metrics import mean_absolute_error as MAE\n",
    "\n",
    "def test(X_train, X_test, y_train, y_test):\n",
    "    pipe = Pipeline([\n",
    "        ('scaler', StandardScaler()),\n",
    "        ('model', GradientBoostingRegressor(\n",
    "            random_state = 14,\n",
    "            n_iter_no_change = 10,\n",
    "            tol = 1e-6,\n",
    "            n_estimators = 200,\n",
    "        ))\n",
    "    ])\n",
    "\n",
    "    pipe.fit(X_train, y_train)\n",
    "    print(\"R^2:\", pipe.score(X_test, y_test))\n",
    "    print(\"MSE:\", MSE(pipe.predict(X_test), y_test))\n",
    "    print(\"MAE:\", MAE(pipe.predict(X_test), y_test))"
   ]
  },
  {
   "cell_type": "code",
   "execution_count": 9,
   "metadata": {},
   "outputs": [],
   "source": [
    "comps_by_loss = []\n",
    "\n",
    "for _ in range(20):\n",
    "    comps_by_loss.append([])\n",
    "\n",
    "for note in all_comps:\n",
    "    loss_num = np.argmax(note[\"encoded_sequence\"][-20:]).item()\n",
    "    comps_by_loss[loss_num].append(note)"
   ]
  },
  {
   "cell_type": "code",
   "execution_count": 10,
   "metadata": {},
   "outputs": [],
   "source": [
    "assert(len(comps_by_loss[1]) == 4926)"
   ]
  },
  {
   "cell_type": "code",
   "execution_count": 11,
   "metadata": {},
   "outputs": [],
   "source": [
    "def transform_target(target):\n",
    "    ans = np.zeros(78)\n",
    "    coef = 1.0\n",
    "    gamma = 0.9\n",
    "    \n",
    "    for snip in target:\n",
    "        ans[snip] += coef\n",
    "        coef *= gamma\n",
    "        if coef < 0.01:\n",
    "            break\n",
    "\n",
    "    return ans\n",
    "\n",
    "def sigmoid(x):\n",
    "    return 1.0 / (1.0 + np.exp(-x))"
   ]
  },
  {
   "cell_type": "code",
   "execution_count": 12,
   "metadata": {},
   "outputs": [],
   "source": [
    "from sklearn.model_selection import train_test_split\n",
    "\n",
    "def test_loss_num(num): \n",
    "    if num != -1:\n",
    "        train_data, test_data = train_test_split(\n",
    "            comps_by_loss[num],\n",
    "            test_size = 0.25,\n",
    "            random_state = 14\n",
    "        )\n",
    "        back = 20\n",
    "        print(\"Проверка номера\", num)\n",
    "    \n",
    "    else:\n",
    "        train_data, test_data = train_test_split(\n",
    "            all_comps,\n",
    "            test_size = 0.25,\n",
    "            random_state = 14\n",
    "        )\n",
    "        back = 0\n",
    "        print(\"Проверка номера на всех данных\")\n",
    "        \n",
    "    \n",
    "    X_train, X_test, y_train, y_test = [], [], [], []\n",
    "\n",
    "    for note in train_data:\n",
    "        score = meta[meta.kernel_id == note[\"kernel_id\"]].kaggle_score.iloc[0]\n",
    "        \n",
    "        X_train.append(np.concatenate([\n",
    "            note[\"encoded_sequence\"][:-back], transform_target(note[\"target\"]), [1]\n",
    "        ]))\n",
    "\n",
    "        y_train.append(sigmoid(score))\n",
    "\n",
    "    for note in test_data:\n",
    "        score = meta[meta.kernel_id == note[\"kernel_id\"]].kaggle_score.iloc[0]\n",
    "\n",
    "        X_test.append(np.concatenate([\n",
    "            note[\"encoded_sequence\"][:-back], transform_target(note[\"target\"]), [1]\n",
    "        ]))\n",
    "\n",
    "        y_test.append(sigmoid(score))\n",
    "\n",
    "    X_train = np.array(X_train)\n",
    "    X_test = np.array(X_test)\n",
    "    y_train = np.array(y_train)\n",
    "    y_test = np.array(y_test)\n",
    "\n",
    "    test(X_train, X_test, y_train, y_test)\n",
    "    print('=' * 100)"
   ]
  },
  {
   "cell_type": "code",
   "execution_count": 13,
   "metadata": {},
   "outputs": [
    {
     "name": "stdout",
     "output_type": "stream",
     "text": [
      "Проверка номера на всех данных\n",
      "R^2: 0.12497980410285625\n",
      "MSE: 0.015844819745134856\n",
      "MAE: 0.08254130004136755\n",
      "====================================================================================================\n"
     ]
    }
   ],
   "source": [
    "test_loss_num(-1)"
   ]
  },
  {
   "cell_type": "code",
   "execution_count": 14,
   "metadata": {
    "scrolled": false
   },
   "outputs": [
    {
     "name": "stdout",
     "output_type": "stream",
     "text": [
      "Проверка номера 0\n",
      "R^2: 0.6526084563521481\n",
      "MSE: 0.0011834428500894008\n",
      "MAE: 0.020329706871055196\n",
      "====================================================================================================\n",
      "Проверка номера 1\n",
      "R^2: 0.43513189601998836\n",
      "MSE: 0.001260560418729581\n",
      "MAE: 0.016410443263264497\n",
      "====================================================================================================\n",
      "Проверка номера 2\n",
      "R^2: 0.6689751214660202\n",
      "MSE: 0.000515520752227089\n",
      "MAE: 0.014708632464488334\n",
      "====================================================================================================\n",
      "Проверка номера 3\n",
      "R^2: 0.5809398518966272\n",
      "MSE: 0.002680506016459311\n",
      "MAE: 0.033963015417023186\n",
      "====================================================================================================\n",
      "Проверка номера 4\n",
      "R^2: 0.8299941617192232\n",
      "MSE: 0.003881442097419606\n",
      "MAE: 0.03318259390681577\n",
      "====================================================================================================\n",
      "Проверка номера 5\n",
      "R^2: 0.17523020767778674\n",
      "MSE: 0.0018591019714357864\n",
      "MAE: 0.026318600405517107\n",
      "====================================================================================================\n",
      "Проверка номера 6\n",
      "R^2: 0.7980455803439191\n",
      "MSE: 0.005565342989251095\n",
      "MAE: 0.04237346241909835\n",
      "====================================================================================================\n",
      "Проверка номера 7\n",
      "R^2: 0.3894773133034244\n",
      "MSE: 0.002136024888609946\n",
      "MAE: 0.03382532976621094\n",
      "====================================================================================================\n",
      "Проверка номера 8\n",
      "R^2: 0.32926758594334393\n",
      "MSE: 0.00863772519760923\n",
      "MAE: 0.05910240761487739\n",
      "====================================================================================================\n",
      "Проверка номера 9\n",
      "R^2: 0.8502947121192279\n",
      "MSE: 0.005990353970647399\n",
      "MAE: 0.03536250560019678\n",
      "====================================================================================================\n",
      "Проверка номера 10\n",
      "R^2: 0.9950698866867251\n",
      "MSE: 0.00025342375805506427\n",
      "MAE: 0.007841320353429264\n",
      "====================================================================================================\n",
      "Проверка номера 11\n",
      "R^2: 0.15004386878768727\n",
      "MSE: 0.0007446084787163511\n",
      "MAE: 0.017013960781035113\n",
      "====================================================================================================\n",
      "Проверка номера 12\n",
      "R^2: 0.7869462931757571\n",
      "MSE: 0.0009763416698149437\n",
      "MAE: 0.019810920720120515\n",
      "====================================================================================================\n",
      "Проверка номера 13\n",
      "R^2: 0.9721068417395126\n",
      "MSE: 0.003207341262804677\n",
      "MAE: 0.03250743400345445\n",
      "====================================================================================================\n",
      "Проверка номера 14\n",
      "R^2: 0.2822649825660283\n",
      "MSE: 0.0009890707187421\n",
      "MAE: 0.018495219655798124\n",
      "====================================================================================================\n",
      "Проверка номера 15\n",
      "R^2: 0.590571000430311\n",
      "MSE: 0.014237462238815357\n",
      "MAE: 0.06514970479876425\n",
      "====================================================================================================\n",
      "Проверка номера 16\n",
      "R^2: 0.6291261843818559\n",
      "MSE: 0.007046469647582354\n",
      "MAE: 0.045245987854678676\n",
      "====================================================================================================\n",
      "Проверка номера 17\n",
      "R^2: 0.1360021291413026\n",
      "MSE: 0.01700601528901485\n",
      "MAE: 0.10500734752505922\n",
      "====================================================================================================\n",
      "Проверка номера 18\n",
      "R^2: -0.021170801085084623\n",
      "MSE: 0.0015228409830731753\n",
      "MAE: 0.017602206990792724\n",
      "====================================================================================================\n",
      "Проверка номера 19\n",
      "R^2: 0.5712448937070413\n",
      "MSE: 1.5441655700636226e-05\n",
      "MAE: 0.0033062075373969215\n",
      "====================================================================================================\n"
     ]
    }
   ],
   "source": [
    "for i in range(20):\n",
    "    test_loss_num(i)"
   ]
  }
 ],
 "metadata": {
  "kernelspec": {
   "display_name": "Python 3",
   "language": "python",
   "name": "python3"
  },
  "language_info": {
   "codemirror_mode": {
    "name": "ipython",
    "version": 3
   },
   "file_extension": ".py",
   "mimetype": "text/x-python",
   "name": "python",
   "nbconvert_exporter": "python",
   "pygments_lexer": "ipython3",
   "version": "3.8.5"
  }
 },
 "nbformat": 4,
 "nbformat_minor": 4
}
